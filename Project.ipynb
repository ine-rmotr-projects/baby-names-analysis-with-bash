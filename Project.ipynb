{
 "cells": [
  {
   "cell_type": "markdown",
   "metadata": {},
   "source": [
    "![ine-divider](https://user-images.githubusercontent.com/7065401/92672068-398e8080-f2ee-11ea-82d6-ad53f7feb5c0.png)\n",
    "<hr>\n",
    "\n",
    "### Bash Scripting for Data Scientists\n",
    "# Baby names analysis with bash\n",
    "\n",
    "This project will have somewhat unusual requirements among INE data science courses.  Most such projects ask you to complete cells in a notebook such as this.  However, working with the command line necessarily is about the command line, not notebooks.  \n",
    "\n",
    "There *does* exist a bash kernel for Jupyter, which this notebook is saved as. To install it execute in your terminal:\n",
    "\n",
    "```\n",
    "pip install bash_kernel\n",
    "python -m bash_kernel.install\n",
    "```\n",
    "\n",
    "and restart your Notebook.\n",
    "\n",
    "However, the kinds of interactivity you have at a shell are much more flexible than in a notebook.  However, you *can* run bash commands if you install that Jupyter kernel. E.g.:"
   ]
  },
  {
   "cell_type": "code",
   "execution_count": 1,
   "metadata": {},
   "outputs": [
    {
     "name": "stdout",
     "output_type": "stream",
     "text": [
      "total 48K\n",
      "drwxrwxr-x 11 dmertz dmertz 4.0K Dec 20 23:00 .\n",
      "drwxr-xr-x 15 dmertz dmertz 4.0K Dec 19 21:17 ..\n",
      "drwxrwxr-x  3 dmertz dmertz 4.0K Dec 20 19:23 00-Introduction\n",
      "drwxrwxr-x  3 dmertz dmertz 4.0K Dec 21 00:36 01-Working-with-Command-Line\n",
      "drwxrwxr-x  3 dmertz dmertz 4.0K Dec 21 17:22 02-The-Unix-Philosophy\n",
      "drwxrwxr-x  3 dmertz dmertz 4.0K Dec 18 20:56 03-Text-Manipulation\n",
      "drwxrwxr-x  3 dmertz dmertz 4.0K Dec 18 23:08 04-Special-Formats\n",
      "drwxrwxr-x  2 dmertz dmertz 4.0K Dec 12 01:06 05-Cron-and-Config\n",
      "drwxrwxr-x  2 dmertz dmertz 4.0K Dec 12 01:06 06-Scripts\n",
      "drwxrwxr-x  3 dmertz dmertz 4.0K Dec 20 19:46 99-Conclusion\n",
      "drwxrwxr-x  2 dmertz dmertz 4.0K Dec 12 14:02 .ipynb_checkpoints\n",
      "-rw-rw-r--  1 dmertz dmertz 1.3K Dec 20 23:00 trailer.md\n"
     ]
    }
   ],
   "source": [
    "ls -lah .."
   ]
  },
  {
   "cell_type": "markdown",
   "metadata": {},
   "source": [
    "If you are using a Python kernel in Jupyter, you can run bash commands in cells using the `%%bash` \"magic\". E.g.\n",
    "\n",
    "```\n",
    "%%bash\n",
    "ls -lah ..\n",
    "```"
   ]
  },
  {
   "cell_type": "markdown",
   "metadata": {},
   "source": [
    "![orange-divider](https://user-images.githubusercontent.com/7065401/92672455-187a5f80-f2ef-11ea-890c-40be9474f7b7.png)"
   ]
  },
  {
   "cell_type": "markdown",
   "metadata": {},
   "source": [
    "## Part 1\n",
    "\n",
    "**Retrieving data from the internet**\n",
    "\n",
    "The website https://www.babynames.com/names has numerous names arranged onto multiple pages by starting letter of the name.  It also provides information about the origin and meaning of individual names, but we are not concerned with that.  We would like to utilize that resource to identify all listed names, but not any additional information.  That list should be saved to a file `baby-names.txt`.\n",
    "\n",
    "You should be able to accomplish this task in a single line of bash using pipelines and tools.  Note that at the command line, you can press enter after the `|` character to extend a \"virtual line\" over more than one \"physical line\" (this is not required, but might look better).  If your approach produces a few extra items, do not worry about it; make sure the large majority are extra names and that they each occur once.\n",
    "\n",
    "For example, my solution produces this, in part:\n",
    "\n",
    "```bash\n",
    "% head -78 baby-names.txt | tail -8\n",
    "Baback\n",
    "Babette\n",
    "Baby\n",
    "Baby Blogs\n",
    "Baby Names\n",
    "Bacca\n",
    "Bachelor\n",
    "Bachué\n",
    "```\n",
    "\n",
    "If you decide to use several lines of bash, that is fine.  Try to minimize repeated calls to the website to avoid overloading it, as much as you can."
   ]
  },
  {
   "cell_type": "markdown",
   "metadata": {},
   "source": [
    "![orange-divider](https://user-images.githubusercontent.com/7065401/92672455-187a5f80-f2ef-11ea-890c-40be9474f7b7.png)"
   ]
  }
 ],
 "metadata": {
  "kernelspec": {
   "display_name": "Bash",
   "language": "bash",
   "name": "bash"
  },
  "language_info": {
   "codemirror_mode": "shell",
   "file_extension": ".sh",
   "mimetype": "text/x-sh",
   "name": "bash"
  }
 },
 "nbformat": 4,
 "nbformat_minor": 4
}
